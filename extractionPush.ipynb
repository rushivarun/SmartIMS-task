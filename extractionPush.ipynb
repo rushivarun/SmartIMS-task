{
  "nbformat": 4,
  "nbformat_minor": 0,
  "metadata": {
    "colab": {
      "name": "extractionPush.ipynb",
      "provenance": []
    },
    "kernelspec": {
      "name": "python3",
      "display_name": "Python 3"
    }
  },
  "cells": [
    {
      "cell_type": "code",
      "metadata": {
        "id": "6vZkTOXCFHre",
        "colab_type": "code",
        "colab": {
          "base_uri": "https://localhost:8080/",
          "height": 298
        },
        "outputId": "7df957b7-dfaa-4a89-cd53-915752e8d24b"
      },
      "source": [
        "pip install six python-firebase"
      ],
      "execution_count": 75,
      "outputs": [
        {
          "output_type": "stream",
          "text": [
            "Requirement already satisfied: six in /usr/local/lib/python3.6/dist-packages (1.12.0)\n",
            "Collecting python-firebase\n",
            "  Downloading https://files.pythonhosted.org/packages/32/e6/88b799753e64aeb0f24040b98c94012994cf9517c889dee4f8a49ac89400/python-firebase-1.2.tar.gz\n",
            "Requirement already satisfied: requests>=1.1.0 in /usr/local/lib/python3.6/dist-packages (from python-firebase) (2.21.0)\n",
            "Requirement already satisfied: certifi>=2017.4.17 in /usr/local/lib/python3.6/dist-packages (from requests>=1.1.0->python-firebase) (2019.11.28)\n",
            "Requirement already satisfied: urllib3<1.25,>=1.21.1 in /usr/local/lib/python3.6/dist-packages (from requests>=1.1.0->python-firebase) (1.24.3)\n",
            "Requirement already satisfied: chardet<3.1.0,>=3.0.2 in /usr/local/lib/python3.6/dist-packages (from requests>=1.1.0->python-firebase) (3.0.4)\n",
            "Requirement already satisfied: idna<2.9,>=2.5 in /usr/local/lib/python3.6/dist-packages (from requests>=1.1.0->python-firebase) (2.8)\n",
            "Building wheels for collected packages: python-firebase\n",
            "  Building wheel for python-firebase (setup.py) ... \u001b[?25l\u001b[?25hdone\n",
            "  Created wheel for python-firebase: filename=python_firebase-1.2-cp36-none-any.whl size=11535 sha256=800a5c3de2a548dabb6ecb9234f34b7eaa9ece4f325603e3f783ef249b287d3d\n",
            "  Stored in directory: /root/.cache/pip/wheels/ba/40/ca/e41a25d7abb787092e837cb0f91f33b04b1a8fd9d17c2d33a6\n",
            "Successfully built python-firebase\n",
            "Installing collected packages: python-firebase\n",
            "Successfully installed python-firebase-1.2\n"
          ],
          "name": "stdout"
        }
      ]
    },
    {
      "cell_type": "code",
      "metadata": {
        "id": "6zGzCpnCWYWh",
        "colab_type": "code",
        "colab": {}
      },
      "source": [
        "from firebase import firebase\n",
        "import requests\n",
        "import urllib.request\n",
        "import time\n",
        "from bs4 import BeautifulSoup"
      ],
      "execution_count": 0,
      "outputs": []
    },
    {
      "cell_type": "code",
      "metadata": {
        "id": "_u_IQouPFTRf",
        "colab_type": "code",
        "colab": {}
      },
      "source": [
        "firebase = firebase.FirebaseApplication('https://smartims-3862c.firebaseio.com/', None)"
      ],
      "execution_count": 0,
      "outputs": []
    },
    {
      "cell_type": "code",
      "metadata": {
        "id": "CdnhbUVipzdy",
        "colab_type": "code",
        "colab": {}
      },
      "source": [
        "url = 'https://infosci.cornell.edu/people/faculty'\n",
        "response = requests.get(url)"
      ],
      "execution_count": 0,
      "outputs": []
    },
    {
      "cell_type": "code",
      "metadata": {
        "id": "87w54MvXqEwn",
        "colab_type": "code",
        "colab": {
          "base_uri": "https://localhost:8080/",
          "height": 34
        },
        "outputId": "84305359-6353-4ba8-bc1e-bbd635d32862"
      },
      "source": [
        "response"
      ],
      "execution_count": 81,
      "outputs": [
        {
          "output_type": "execute_result",
          "data": {
            "text/plain": [
              "<Response [200]>"
            ]
          },
          "metadata": {
            "tags": []
          },
          "execution_count": 81
        }
      ]
    },
    {
      "cell_type": "code",
      "metadata": {
        "id": "HTNZ0SkZqGpL",
        "colab_type": "code",
        "colab": {
          "base_uri": "https://localhost:8080/",
          "height": 1000
        },
        "outputId": "e82134c3-108f-43ce-c766-8fef0bd8a7ca"
      },
      "source": [
        "soup = BeautifulSoup(response.text, 'html.parser')\n",
        "# print(soup)\n",
        "mydivs = soup.findAll(\"div\", {\"class\": \"person-listing\"})\n",
        "faculty = []\n",
        "\n",
        "for i in mydivs:\n",
        "    tName = i.findAll(\"a\", {\"class\": \"text-primary\"})[0].string\n",
        "    tPosition = i.findAll(\"p\")[0].get_text()\n",
        "    tInterest = i.findAll(\"p\")[1].get_text()\n",
        "    # tOffice = i.findAll(\"p\")[2].get_text()\n",
        "    tImage = i.findAll(\"img\")[0].get('src')\n",
        "    obj = {\n",
        "        \"name\" : tName,\n",
        "        \"position\" : tPosition,\n",
        "        \"interests\" : tInterest,\n",
        "        \"image\" : tImage,\n",
        "    }\n",
        "    result = firebase.post('/faculty/',obj)\n",
        "    print(result)\n",
        "    faculty.append(obj)\n",
        "\n",
        "print(faculty)\n"
      ],
      "execution_count": 83,
      "outputs": [
        {
          "output_type": "stream",
          "text": [
            "{'name': '-M375QgkZycxgLCjviXB'}\n",
            "{'name': '-M375Qj33uVIz5hPkNj1'}\n",
            "{'name': '-M375QlQv-Kx4ft2amZ-'}\n",
            "{'name': '-M375QnjdV3vwR6dLsgD'}\n",
            "{'name': '-M375QpylyHBsphtxqAD'}\n",
            "{'name': '-M375QsLX58uauuHEygM'}\n",
            "{'name': '-M375QufoEVkzm1zAZws'}\n",
            "{'name': '-M375Qx0pTILoZ8oPnIa'}\n",
            "{'name': '-M375QzMKiY5OudchXxV'}\n",
            "{'name': '-M375R0gijSywGWuROhf'}\n",
            "{'name': '-M375R30lyI-5tyD8ctm'}\n",
            "{'name': '-M375R5Oqro564MQV6QW'}\n",
            "{'name': '-M375R7h7X3VhrxlQeGL'}\n",
            "{'name': '-M375RA4XOlrXOsk8upa'}\n",
            "{'name': '-M375RCNOO3diC4OfZqf'}\n",
            "{'name': '-M375REh36YViDl-nGqT'}\n",
            "{'name': '-M375RH1fpIvuh8v7t4g'}\n",
            "{'name': '-M375RJNpJeEcDLqDcao'}\n",
            "{'name': '-M375RLiCRBbyaP0d1jb'}\n",
            "{'name': '-M375RO2fO9Y1ytVoRbS'}\n",
            "{'name': '-M375RQmxZAsqveSpcqQ'}\n",
            "{'name': '-M375RTAcZwr0yfWCwoQ'}\n",
            "{'name': '-M375RVVrOWEcwndvH1m'}\n",
            "{'name': '-M375RXq_Oab_POKygw1'}\n",
            "{'name': '-M375R_9FJPr6qF_LdxY'}\n",
            "{'name': '-M375RbTbfXdO9o9Omsc'}\n",
            "{'name': '-M375RdovMQScotXMsWd'}\n",
            "{'name': '-M375Rg8_1BNOmaCG2vU'}\n",
            "{'name': '-M375RiQ2Htw-lk36SA2'}\n",
            "{'name': '-M375Rkkt0RPb8R23yJ4'}\n",
            "{'name': '-M375Rn5aD4mnOIFTMIA'}\n",
            "{'name': '-M375RpP26dkESs656Wh'}\n",
            "{'name': '-M375RrjgAq4MkUZ01H8'}\n",
            "{'name': '-M375Ru817A-A6MiB92a'}\n",
            "{'name': '-M375RwSx9AfWAggarIp'}\n",
            "{'name': '-M375RypCXNo6h1rHgfm'}\n",
            "{'name': '-M375S0BKLj8eTYg69WN'}\n",
            "{'name': '-M375S2WJs6TEp5cv9_l'}\n",
            "{'name': '-M375S4nAAXaG9q9ERJr'}\n",
            "{'name': '-M375S76Viw_wyOEXvAZ'}\n",
            "{'name': '-M375S9f_jtpOt2JU_C4'}\n",
            "{'name': '-M375SBzDLmChBed6oA8'}\n",
            "{'name': '-M375SELZqSAYg9gtC6d'}\n",
            "{'name': '-M375SGgYX0gxqK4r0pT'}\n",
            "{'name': '-M375SIvRKrcd6i_92Rw'}\n",
            "{'name': '-M375SL9oygyqqbAcs2-'}\n",
            "{'name': '-M375SO0qx4MmfaG00hD'}\n",
            "{'name': '-M375SQLpcBZfXwy_NCM'}\n",
            "{'name': '-M375SSd3CUODU5fJwrY'}\n",
            "{'name': '-M375SV-8H2wicY1worU'}\n",
            "{'name': '-M375SXGJsy3c1VfoYIP'}\n",
            "{'name': '-M375SZeUwazkxLiDlry'}\n",
            "{'name': '-M375SawQGDxZk4xUnSI'}\n",
            "{'name': '-M375SdGKDhYulkwP3d3'}\n",
            "{'name': '-M375Sfbr--F3w7bRZ-J'}\n",
            "{'name': '-M375ShuBYntdcGBvZ-A'}\n",
            "{'name': '-M375Sk9xeHu05IarMpV'}\n",
            "{'name': '-M375SmSG9Fz9Cx549e9'}\n",
            "{'name': '-M375SonR19XwWh3WL5D'}\n",
            "{'name': '-M375Sr8Z8IG_Elj7o9a'}\n",
            "{'name': '-M375StSajBWcFzMANTp'}\n",
            "{'name': '-M375Svol1184vBgdwak'}\n",
            "{'name': '-M375Sy5Q0VtvxkUwoso'}\n",
            "{'name': '-M375T-MtubVD6IdTwYO'}\n",
            "[{'name': 'John Abowd', 'position': 'Professor; Economics, Information Science Field Faculty', 'interests': 'Areas of Interest:\\xa0Social and economic statistics, longitudinally-linked economic and social data bases, data confidentiality protection, labor economics', 'image': 'https://infosci.cornell.edu/sites/default/files/styles/icon-100x100/public/JohnAbowdCrop.jpg?itok=9F_GPkO6'}, {'name': 'Shiri Azenkot', 'position': 'Assistant Professor; Information Science, Information Science Field Faculty', 'interests': 'Areas of Interest:\\xa0Human-Computer Interaction, accessibility', 'image': 'https://infosci.cornell.edu/sites/default/files/styles/icon-100x100/public/faculty-shiri-crop.jpg?itok=WQVOho-v'}, {'name': 'Solon Barocas', 'position': 'Assistant Professor; Information Science, Information Science Field Faculty', 'interests': 'Areas Of Interest:\\xa0Information technology policy; Fairness, accountability, and transparency in machine learning; privacy', 'image': 'https://infosci.cornell.edu/sites/default/files/styles/icon-100x100/public/faculty-solon-barocas.jpeg?itok=kgWPeYwS'}, {'name': 'Natalie Bazarova', 'position': 'Assistant Professor; Communication, Information Science Field Faculty', 'interests': 'Areas of Interest:\\xa0Disclosure and privacy of personal information in social media; mental health and communication technologies, personal relationships and technologies, family studies in the digital age, and virtual group collaboration', 'image': 'https://infosci.cornell.edu/sites/default/files/styles/icon-100x100/public/natalie%20bazarova-4.jpeg?itok=pMe_jGsZ'}, {'name': 'Larry  Blume', 'position': 'Professor; Economics,\\xa0Information Science, Information Science Field Faculty', 'interests': 'Areas of Interest:\\xa0Theory of games, economics of information and decision theory', 'image': 'https://infosci.cornell.edu/sites/default/files/styles/icon-100x100/public/LarryB1.jpg?itok=E3n9vYnr'}, {'name': 'Claire  Cardie', 'position': 'Professor; Computer Science, Information Science,\\xa0Information Science Field Faculty', 'interests': 'Areas of Interest:\\xa0Natural language processing including opinion and argument extraction, and the use of natural language processing in computational-social systems.', 'image': 'https://infosci.cornell.edu/sites/default/files/styles/icon-100x100/public/ClaireC2.jpg?itok=QlPOsJh5'}, {'name': 'Cristobal  Cheyre ', 'position': 'Assistant Professor;\\xa0Information Science, Information Science Field Faculty', 'interests': 'Areas Of Interest: Economics of Information, Economics of Privacy and Data Analytics, Technology and Innovation Management, and Entrepreneurship.\\xa0', 'image': 'https://infosci.cornell.edu/sites/default/files/styles/icon-100x100/public/Cristobal-Cheyre-2019.jpg?itok=pNtrZDSx'}, {'name': 'Tanzeem  Choudhury', 'position': 'Professor; Information Science,\\xa0Information Science Field Faculty', 'interests': 'Areas of Interest:\\xa0Machine learning, mobile systems, activity recognition, mHealth, mobile health', 'image': 'https://infosci.cornell.edu/sites/default/files/styles/icon-100x100/public/Choudhury%20Tanzeem%202019.jpg?itok=vkn-Evvv'}, {'name': 'Jeff  Christen', 'position': 'Lecturer; Information Science\\xa0', 'interests': 'Areas of Interest:\\xa0Data Analytics, Business Intelligence, Data Warehousing, Data Management\\xa0\\xa0', 'image': 'https://infosci.cornell.edu/sites/default/files/styles/icon-100x100/public/JeffChristen.jpg?itok=3IYho1d0'}, {'name': 'Morten Christiansen', 'position': 'Professor; Psychology, Information Science Field Faculty', 'interests': 'Areas of Interest: Evolution, Acquisition and Processing of Language; Corpus Analyses; Computational Models of Language; Chunking, Learning and Memory; Statistical Learning; Cognitive Science of Language; Neuroimaging of Language; Genetics of Language.', 'image': 'https://infosci.cornell.edu/sites/default/files/styles/icon-100x100/public/christiansenmorten.jpg?itok=SxWpJpHu'}, {'name': 'Robert Constable', 'position': 'Professor; Computer Science, Information Science Field Faculty', 'interests': 'Areas of Interest: Formal Digital Libraries (FDL) Project; Logic of Events; Knowledge-Based Adaptive Distributed Systems; Models for Concurrency', 'image': 'https://infosci.cornell.edu/sites/default/files/styles/icon-100x100/public/Cornell%20Logo_10.jpg?itok=ta2G9R4x'}, {'name': 'Dan  Cosley', 'position': 'Associate Professor; Information Science, Information Science Field Faculty', 'interests': 'Areas of Interest: Human-computer interaction, online communities, and recommender systems', 'image': 'https://infosci.cornell.edu/sites/default/files/styles/icon-100x100/public/DanCo1.jpg?itok=HpI94Bi6'}, {'name': 'Cristian  Danescu-Niculescu-Mizil', 'position': 'Assistant Professor; Information Science, Information Science Field Faculty', 'interests': 'Areas of Interest: Computational Social Science, Social Computing, Computational Linguistics, Natural Language Processing', 'image': 'https://infosci.cornell.edu/sites/default/files/styles/icon-100x100/public/CristianDNM%20large.jpg?itok=3SkIK9Pl'}, {'name': 'Nicola  Dell', 'position': 'Assistant Professor; Information Science, Information Science Field Faculty', 'interests': 'Areas of Interest: Information and communication technologies for development (ICTD), human-computer interaction (HCI), and mobile computing.', 'image': 'https://infosci.cornell.edu/sites/default/files/styles/icon-100x100/public/Nicki.jpg?itok=OP6bLv7-'}, {'name': 'David  Easley', 'position': 'Professor;\\xa0Economics,\\xa0Information Science,\\xa0\\xa0Information Science Field Faculty', 'interests': 'Areas of Interest:\\xa0Economics of information; learning from endogenous data; market microstructure; evolution in games and markets', 'image': 'https://infosci.cornell.edu/sites/default/files/styles/icon-100x100/public/davideasleycrop.jpg?itok=Q36FmaIi'}, {'name': 'Deborah Estrin', 'position': 'Professor; Computer Science, Information Science Field Faculty', 'interests': 'Areas of Interest:\\xa0Mobile systems and applications, participatory sensing, health applications, privacy', 'image': 'https://infosci.cornell.edu/sites/default/files/styles/icon-100x100/public/0607_13_013.jpg__235x235_q85_crop_upscale.jpg?itok=5qqWFAO8'}, {'name': 'Susan  Fussell', 'position': 'Professor; Information Science, Communication, Information Science Field Faculty\\xa0', 'interests': 'Areas of Interest:\\xa0Computer-mediated communication, computer-supported cooperative work, social computing, human-robot and human-agent communication', 'image': 'https://infosci.cornell.edu/sites/default/files/styles/icon-100x100/public/SueFussel2Crop.jpg?itok=Grl6lOye'}, {'name': 'Geri  Gay', 'position': 'Professor Emerita;\\xa0Kenneth J. Bissett Professor of Communication & Information Science', 'interests': 'Areas of Interest:\\xa0HCI, mobile computing, information visualization, affective presence, social and collaborative computing', 'image': 'https://infosci.cornell.edu/sites/default/files/styles/icon-100x100/public/GeriGay2014Crop.jpg?itok=nCePxOqt'}, {'name': 'Tarleton  Gillespie', 'position': 'Adjunct Associate Professor; Information Science', 'interests': 'Areas of Interest:\\xa0Social contexts and implications of information technologies; law, policy, and technological change; public discourse in a digital environment\\xa0', 'image': 'https://infosci.cornell.edu/sites/default/files/styles/icon-100x100/public/Tarleton1.jpg?itok=wqXgvxWE'}, {'name': 'Paul Ginsparg', 'position': 'Professor; Physics,\\xa0Information Science, Information Science Field Faculty', 'interests': 'Areas of Interest:\\xa0Quantum field theory, quantum computing, digital knowlege networks', 'image': 'https://infosci.cornell.edu/sites/default/files/styles/icon-100x100/public/2012-10-15-5366%20%282%29_0.jpg?itok=Hrea0I_M'}, {'name': 'Carla Gomes', 'position': 'Professor; Computer Science, Information Science, Information Science Field Faculty\\xa0', 'interests': 'Areas of Interest:\\xa0Combinatorial problems, with an emphasis on planning and scheduling problems, combining techniques from Computer Science, Artificial Intelligence, and Operations Research', 'image': 'https://infosci.cornell.edu/sites/default/files/styles/icon-100x100/public/carlagomescrop.jpg?itok=e-h7RcNp'}, {'name': 'James Grimmelmann', 'position': 'Professor;\\xa0Law, Information Science Field Faculty', 'interests': 'Areas of Interest:\\xa0Law and\\xa0social aspects of information', 'image': 'https://infosci.cornell.edu/sites/default/files/styles/icon-100x100/public/Grimmelmann%2C%20James.jpg?itok=DjyPTYr3'}, {'name': 'François  Guimbretière', 'position': 'Professor,\\xa0Charles F. and Barbara D. Weiss Director of Undergraduate Studies; Information Science, Information Science Field Faculty', 'interests': 'Areas of Interest:\\xa0Pen computing both on paper and on digital surfaces; Information appliances to support reading; Empirical evaluation of computer interface; Information visualization', 'image': 'https://infosci.cornell.edu/sites/default/files/styles/icon-100x100/public/Guimbretiere-Francois-2017-cropped.jpg?itok=lij18pge'}, {'name': 'Joseph Halpern', 'position': 'Professor; Computer Science, Information Science Field Faculty', 'interests': 'Areas of Interest:\\xa0Representing and reasoning about knowledge and uncertainty, qualitative reasoning, causality, security, game theory, decision theory, belief revision, and fault tolerance', 'image': 'https://infosci.cornell.edu/sites/default/files/styles/icon-100x100/public/Halpern.jpg?itok=viiqlPgY'}, {'name': 'Kyle Harms', 'position': 'Lecturer; Information Science\\xa0', 'interests': 'Areas of Interest:\\xa0Human-computer interaction, computing and information science education, novice programming environments and languages, user evaluation design', 'image': 'https://infosci.cornell.edu/sites/default/files/styles/icon-100x100/public/Harms-Kyle-2017-cropped2.jpg?itok=_celiT_E'}, {'name': 'Haym Hirsh', 'position': 'Professor; Computer Science, Information Science Field Faculty', 'interests': 'Areas of Interest:\\xa0Artificial intelligence, collective intelligence, crowdsourcing, data mining, human computation, information retrieval, machine learning.', 'image': 'https://infosci.cornell.edu/sites/default/files/styles/icon-100x100/public/20130827-14445369-Edit.jpg?itok=4g1XU1mo'}, {'name': 'Will  Hobbs', 'position': 'Assistant Professor;\\xa0Human Development, Information Science Field Faculty', 'interests': 'Areas of Interest: politics and everyday life, health and resilience, causal inference, computational social science, social networks, text mining', 'image': 'https://infosci.cornell.edu/sites/default/files/styles/icon-100x100/public/Hobbs%2C%20Will.jpg?itok=r-dJoEv4'}, {'name': 'Guy Hoffman', 'position': 'Assistant Professor; Mechanical and Aerospace Engineering, Information Science Field Faculty', 'interests': 'Areas of Interest:\\xa0Human-robot interaction', 'image': 'https://infosci.cornell.edu/sites/default/files/styles/icon-100x100/public/hoffman4.jpg?itok=JKmvv-ga'}, {'name': 'Lee Humphreys', 'position': 'Associate Professor; Communication, Information Science Field Faculty', 'interests': 'Areas of Interest:\\xa0Social uses and effects of technology, mobile technology, communication and culture, mobile social networks, new media & society', 'image': 'https://infosci.cornell.edu/sites/default/files/styles/icon-100x100/public/Lee%20Humphreys.jpg?itok=UKcMAcq4'}, {'name': 'Steve  Jackson', 'position': 'Associate Professor and Chair; Science and Technology Studies, Information Science, Information Science Field Faculty', 'interests': 'Areas of Interest:\\xa0Information technology policy; scientific cyberinfrastructure and collaboration; simulation and science policy; sociocultural analysis of information and information technology; science and technology studies', 'image': 'https://infosci.cornell.edu/sites/default/files/styles/icon-100x100/public/Jackson-Steve-2018-cropped.jpg?itok=3N4QO6tw'}, {'name': 'Thorsten Joachims', 'position': 'Professor; Computer Science, Information Science, Information Science Field Faculty', 'interests': 'Areas of Interest:\\xa0Machine Learning, Information Retrieval, Learning from Behavioral Data, Language Technology', 'image': 'https://infosci.cornell.edu/sites/default/files/styles/icon-100x100/public/JoachimsThorsten2016.jpg?itok=IDFJPkx1'}, {'name': 'Wendy Ju', 'position': 'Assistant Professor ; Information Science, Information Science Field Faculty', 'interests': 'Areas of Interest:\\xa0Interaction with Automation, Interaction Design Research,\\xa0Human Robot Interaction,\\xa0Automotive Interaction Design', 'image': 'https://infosci.cornell.edu/sites/default/files/styles/icon-100x100/public/ju-wendy-crop%20%281%29.jpg?itok=oT9i3FJ2'}, {'name': 'Malte Jung', 'position': 'Assistant Professor; Information Science, Information Science Field Faculty', 'interests': 'Areas of Interest:\\xa0Computer-supported cooperative work, teamwork, emotion, human-robot interaction, design', 'image': 'https://infosci.cornell.edu/sites/default/files/styles/icon-100x100/public/Jung-Malte-2017-cropped.jpg?itok=GU-MSbr6'}, {'name': 'Cindy Hsin-Liu  Kao', 'position': 'Assistant Professor;\\xa0Design and Environmental Analysis, Information Science Field Faculty', 'interests': 'Areas of Interest:\\xa0Human-Computer\\xa0Interaction, Interaction Design, Digital Fabrication, Wearable Computing, Culturally-inspired on-body technologies\\xa0', 'image': 'https://infosci.cornell.edu/sites/default/files/styles/icon-100x100/public/IMG_3262___300px_450px_300.jpg?itok=XdGS2CcM'}, {'name': 'René  Kizilcec', 'position': 'Assistant Professor; Information Science, Information Science Field Faculty', 'interests': 'Areas of Interest:\\xa0Social psychology, human-computer interaction, learning analytics, digital learning (MOOCs, mobile)', 'image': 'https://infosci.cornell.edu/sites/default/files/styles/icon-100x100/public/Kizilcec.jpg?itok=N5AGNhtl'}, {'name': 'Robert Kleinberg', 'position': 'Associate Professor; Computer Science, Information Science Field Faculty', 'interests': 'Areas of Interest:\\xa0Algorithmic aspects of learning and game theory, with applications to electronic commerce, online social systems, and information systems.', 'image': 'https://infosci.cornell.edu/sites/default/files/styles/icon-100x100/public/RobertKleinberg.jpg?itok=E8TP4zQB'}, {'name': 'Jon Kleinberg', 'position': 'Professor and Interim Dean of CIS;\\xa0Computer Science, Information Science,\\xa0Information Science Field Faculty', 'interests': 'Areas of Interest: Algorithms that exploit the combinatorial structure of networks and information', 'image': 'https://infosci.cornell.edu/sites/default/files/styles/icon-100x100/public/JonK1.jpg?itok=03wB0f-B'}, {'name': 'Lillian Lee', 'position': 'Professor;\\xa0Computer Science, Information Science, Information Science Field Faculty', 'interests': 'Areas of Interest:\\xa0Natural language processing and social interaction; computational social science; machine learning; artificial intelligence', 'image': 'https://infosci.cornell.edu/sites/default/files/styles/icon-100x100/public/Lee%20Lillian%20Pull%20Lever.png?itok=EAaaNNAs'}, {'name': 'Gilly Leshed', 'position': 'Senior Lecturer and Director of MPS; Information Science, Information Science Field Faculty', 'interests': 'Areas of Interest:\\xa0Human computer interaction, computer-supported cooperative work', 'image': 'https://infosci.cornell.edu/sites/default/files/styles/icon-100x100/public/LeshedGilly2016.jpg?itok=eBDE5V7i'}, {'name': 'Karen Levy', 'position': 'Assistant Professor; Information Science, Information Science Field Faculty', 'interests': 'Areas of Interest:\\xa0Law and technology, surveillance and privacy, information technology policy, social control and regulation, social, organizational, and ethical contexts of technological systems, labor and the workplace, socioeconomic marginalization', 'image': 'https://infosci.cornell.edu/sites/default/files/styles/icon-100x100/public/Levy-Karen-2018-cropped.jpg?itok=PhgzRORy'}, {'name': 'Michael Macy', 'position': 'Professor; Sociology, Information Science, Information Science Field Faculty', 'interests': 'Areas of Interest:\\xa0Computational social science', 'image': 'https://infosci.cornell.edu/sites/default/files/styles/icon-100x100/public/MichaelM1.jpg?itok=rG7Dbw49'}, {'name': 'Drew Margolin', 'position': 'Assistant Professor; Communication, Information Science Field Faculty', 'interests': 'Areas of Interest:\\xa0Computational social science, social networks, and text mining', 'image': 'https://infosci.cornell.edu/sites/default/files/styles/icon-100x100/public/margolinedit.jpg?itok=GlpMdaRL'}, {'name': 'David  Mimno', 'position': 'Associate Professor\\xa0and Director of Graduate Studies; Information Science, Information Science Field Faculty', 'interests': 'Areas of Interest:\\xa0Machine learning, text mining, digital humanities', 'image': 'https://infosci.cornell.edu/sites/default/files/styles/icon-100x100/public/David%20Mimno_001Crop.jpg?itok=feJxmoAk'}, {'name': 'Mor  Naaman', 'position': 'Associate Professor; Information Science, Information Science Field Faculty', 'interests': 'Areas of Interest:\\xa0Social computing, human computer interaction, social data mining, computational media and journalism, urban computing', 'image': 'https://infosci.cornell.edu/sites/default/files/styles/icon-100x100/public/Naaman2017.jpg?itok=7j2A253e'}, {'name': 'Rajalakshmi Nandakumar', 'position': 'Assistant Professor;\\xa0Information Science, Information Science Field Faculty', 'interests': 'Areas Of Interest: Mobile health, user interfaces, and the Internet of Things', 'image': 'https://infosci.cornell.edu/sites/default/files/styles/icon-100x100/public/nandakumar_0.jpg?itok=LoHiRf28'}, {'name': 'Helen  Nissenbaum', 'position': 'Professor; Information Science, Information Science Field Faculty', 'interests': 'Areas of Interest: Ethics in policy, law, science and engineering relating to information technology, computing, digital media and data science.', 'image': 'https://infosci.cornell.edu/sites/default/files/styles/icon-100x100/public/nissenbaum.jpg?itok=59wq4BiR'}, {'name': 'Tapan  Parikh', 'position': 'Associate Professor; Information Science, Information Science Field Faculty\\xa0', 'interests': 'Areas of Interest: Human-Computer Interaction, design and evaluation of information technologies for education, governance, and international development', 'image': 'https://infosci.cornell.edu/sites/default/files/styles/icon-100x100/public/parikh2017.jpg?itok=4zMxtdne'}, {'name': 'Trevor Pinch', 'position': 'Professor; Sociology, Science of Technology, Information Science Field Faculty', 'interests': 'Areas of Inteest:\\xa0Sociology of technology, history and sociology of musical instruments, digital music communities, economic sociology and science and technology studies', 'image': 'https://infosci.cornell.edu/sites/default/files/styles/icon-100x100/public/TrevorPinchCrop_0.jpg?itok=quOHcqK-'}, {'name': 'Martha Pollack', 'position': 'Cornell University President,\\xa0Professor;\\xa0 Information Science, Computer Science', 'interests': 'Areas of Interest:\\xa0Artificial Intelligence', 'image': 'https://infosci.cornell.edu/sites/default/files/styles/icon-100x100/public/Pollack%20Martha%202019.jpg?itok=aIaHW9Ha'}, {'name': 'Mats Rooth', 'position': 'Professor; Linguistics, Information Science Field Faculty\\xa0\\xa0', 'interests': 'Areas of Interest:\\xa0Computational linguistics and natural language semantics', 'image': 'https://infosci.cornell.edu/sites/default/files/styles/icon-100x100/public/MatsRoothCrop.jpg?itok=bBroVhwP'}, {'name': 'Jeff  Rzeszotarski', 'position': 'Assistant Professor; Information Science, Information Science Field Faculty', 'interests': 'Areas of Interest: Data visualization, crowdsourcing, and social computing', 'image': 'https://infosci.cornell.edu/sites/default/files/styles/icon-100x100/public/JeffRz-crop-3.jpg?itok=r0_pBcSm'}, {'name': 'Fred Schneider', 'position': 'Professor; Computer Science, Information Science Field Faculty', 'interests': 'Areas of Interest:\\xa0Trustworthy computing and public policy', 'image': 'https://infosci.cornell.edu/sites/default/files/styles/icon-100x100/public/FredSchneiderCrop.jpg?itok=AU35yJe8'}, {'name': 'Phoebe  Sengers', 'position': 'Associate Professor; Information Science, Information Science Field Faculty', 'interests': 'Areas of Interest:\\xa0Social impact of technology, values in technology design, sociology and history of technology, infrastructure studies, research through design, Human-Computer Interaction', 'image': 'https://infosci.cornell.edu/sites/default/files/styles/icon-100x100/public/Pheobe%20Sengers_002Crop_0.jpg?itok=AhFHzi_E'}, {'name': 'David Shmoys', 'position': 'Laibe/Acheson Professor;\\xa0Business Management & Leadership Studies ,Information Science Field Faculty', 'interests': 'Areas of Interest:\\xa0design and analysis of efficient algorithms for discrete optimization problems and\\xa0approximation algorithms', 'image': 'https://infosci.cornell.edu/sites/default/files/styles/icon-100x100/public/David%20Shmoys.jpg?itok=CbN4GqdD'}, {'name': 'Rebeca Slayton', 'position': 'Associate Professor;\\xa0Science and Technology Studies, Information Science Field Faculty', 'interests': 'Areas of Interest:\\xa0Relationships between and among risk, governance, and expertise, with a focus on international security and cooperation since World War II', 'image': 'https://infosci.cornell.edu/sites/default/files/styles/icon-100x100/public/Rebecca-Slayton_0.jpg?itok=yNevbUX5'}, {'name': 'Andrea Stevenson Won', 'position': 'Assistant\\xa0Professor;\\xa0Communication, Information Science Field Faculty', 'interests': 'Areas of Interest:\\xa0Virtual reality, collaboration and teamwork', 'image': 'https://infosci.cornell.edu/sites/default/files/styles/icon-100x100/public/Won%20Andrea.jpg?itok=OXwVOcul'}, {'name': 'Éva  Tardos', 'position': 'Professor and CIS Associate Dean for Diversity and Inclusion;\\xa0Computer Science, Information Science, Information Science Field Faculty', 'interests': 'Areas of Interest: Design and analysis of algorithms, algorithmic game theory', 'image': 'https://infosci.cornell.edu/sites/default/files/styles/icon-100x100/public/Tardos%20Eva.jpg?itok=gMDbEwMJ'}, {'name': 'Aditya Vashistha', 'position': 'Assistant Professor;\\xa0Information Science, Information Science Field Faculty', 'interests': 'Areas Of Interest: Social computing, human-computer interaction (HCI), computing for development, and accessibility technology', 'image': 'https://infosci.cornell.edu/sites/default/files/styles/icon-100x100/public/Aditya-Vashistha-crop_0.jpg?itok=FxEpi_dv'}, {'name': 'Stephen Wicker', 'position': 'Professor; Electrical and Computer Engineering,\\xa0Information Science, Information Science Field Faculty', 'interests': 'Areas of Interest:\\xa0Wireless information networks, cellular networks, packet-switched computer networks, and digital telephony with a focus on the interface between information networking technology, law, and sociology.', 'image': 'https://infosci.cornell.edu/sites/default/files/styles/icon-100x100/public/SteveWickerCrop.jpg?itok=4QXZJ8kE'}, {'name': 'David Williamson', 'position': 'Professor; Operations Research and Information Engineering; Information Science, Information Science Field Faculty', 'interests': 'Areas of Interest: Algorithms for combinatorial optimization problems', 'image': 'https://infosci.cornell.edu/sites/default/files/styles/icon-100x100/public/DavidW2_0.jpg?itok=Hz9Mbswr'}, {'name': 'Connie Yuan', 'position': 'Associate Professor; Communication, Information Science Field Faculty\\nAreas of Interest: Knowledge management, transactive memory, social networks, collaborative work, communication technologies', 'interests': 'Office: 308 Kennedy Hall', 'image': 'https://infosci.cornell.edu/sites/default/files/styles/icon-100x100/public/ConnieYuanCrop.jpg?itok=y_odVVG1'}, {'name': 'Ramin Zabih', 'position': 'Professor; Computer Science, Information Science Field Faculty', 'interests': 'Areas of Interest:\\xa0Computer vision and medical imaging', 'image': 'https://infosci.cornell.edu/sites/default/files/styles/icon-100x100/public/Ramin-administration.gif?itok=lhD2nVkZ'}, {'name': 'Cheng  Zhang', 'position': 'Assistant Professor;\\xa0Information Science, Information Science Field Faculty', 'interests': 'Areas Of Interest:\\xa0ubiquitous computing, wearable computing, HCI, applied machine learning', 'image': 'https://infosci.cornell.edu/sites/default/files/styles/icon-100x100/public/Zhang%20Cheng.jpg?itok=uo_fC9kp'}, {'name': 'Malte Ziewitz', 'position': 'Assistant Professor; Science and Technology Studies, Information Science Field Faculty', 'interests': 'Areas of Interest: The politics and practicalities of evaluation, governance, and accountability in digitally networked environments', 'image': 'https://infosci.cornell.edu/sites/default/files/styles/icon-100x100/public/m-ziewitz.jpg?itok=lLuTFExf'}]\n"
          ],
          "name": "stdout"
        }
      ]
    },
    {
      "cell_type": "code",
      "metadata": {
        "id": "zwSoFI9pqLCT",
        "colab_type": "code",
        "colab": {}
      },
      "source": [
        ""
      ],
      "execution_count": 0,
      "outputs": []
    }
  ]
}